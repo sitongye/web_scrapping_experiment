{
 "cells": [
  {
   "cell_type": "code",
   "execution_count": 148,
   "metadata": {},
   "outputs": [],
   "source": [
    "import requests\n",
    "from bs4 import BeautifulSoup\n",
    "import re\n",
    "import pandas as pd"
   ]
  },
  {
   "cell_type": "code",
   "execution_count": 149,
   "metadata": {},
   "outputs": [],
   "source": [
    "page = requests.get(\"https://www.aldi-sued.de/de/sortiment/bio/\")"
   ]
  },
  {
   "cell_type": "code",
   "execution_count": 142,
   "metadata": {},
   "outputs": [],
   "source": [
    "soup = BeautifulSoup(page.content,'html.parser')"
   ]
  },
  {
   "cell_type": "code",
   "execution_count": 144,
   "metadata": {},
   "outputs": [],
   "source": [
    "def get_product_name(productblocks,i):\n",
    "    name = productblocks[i].find(\"div\",class_=\"box--description--header\").get_text().strip()\n",
    "    return name"
   ]
  },
  {
   "cell_type": "code",
   "execution_count": 197,
   "metadata": {},
   "outputs": [],
   "source": [
    "def get_product_price(productblocks,i):\n",
    "    value= productblocks[i].find('span',class_=\"box--value\").get_text()\n",
    "    value = re.sub(\"[^0-9]\", \"\",value)\n",
    "    if value==\"\":\n",
    "        value = '0'\n",
    "    if productblocks[i].find('span',class_=\"box--decimal\"):\n",
    "        decimal = productblocks[i].find('span',class_=\"box--decimal\").get_text()\n",
    "    else:\n",
    "        decimal = productblocks[i].find_all('span',class_=\"box--value\")[1].get_text()\n",
    "    decimal = re.sub(\"[^0-9]\", \"\",decimal)\n",
    "    if decimal == '':\n",
    "        decimal = '0'\n",
    "    if value is None:\n",
    "        value = '0'\n",
    "    if decimal is None:\n",
    "        decimal = '0'\n",
    "    price = float(value)+float(decimal)*0.01\n",
    "    return price"
   ]
  },
  {
   "cell_type": "code",
   "execution_count": 198,
   "metadata": {},
   "outputs": [],
   "source": [
    "def sub_category_title(category,i):\n",
    "    sub = category.find(\"h2\",class_=\"subheader-blue\")\n",
    "    sub_title = sub.get_text().strip()\n",
    "    return sub_title"
   ]
  },
  {
   "cell_type": "code",
   "execution_count": 199,
   "metadata": {},
   "outputs": [
    {
     "data": {
      "text/plain": [
       "22"
      ]
     },
     "execution_count": 199,
     "metadata": {},
     "output_type": "execute_result"
    }
   ],
   "source": [
    "subcat = soup.find_all(\"div\",{\"id\":re.compile(\"^c......*\"),\"class\":\"csc-default\"})\n",
    "len(subcat)"
   ]
  },
  {
   "cell_type": "code",
   "execution_count": 200,
   "metadata": {},
   "outputs": [],
   "source": [
    "dataset = pd.DataFrame(columns=['category_title','name','price'])"
   ]
  },
  {
   "cell_type": "code",
   "execution_count": 201,
   "metadata": {},
   "outputs": [],
   "source": [
    "for i in range(2,len(subcat)):\n",
    "    subdict={}\n",
    "    if subcat[i].find(\"h2\",class_=\"subheader-blue\"):\n",
    "        category_title = subcat[i].find(\"h2\",class_=\"subheader-blue\").get_text()\n",
    "    else: break\n",
    "    product_group = subcat[i].find(\"div\",class_=\"tx-aldi-products\")\n",
    "    products = product_group.find_all(\"div\",class_=\"ratio-container m-ratio-57x25 box--description m-no-ratio-on-phone\")\n",
    "    for j in range(len(products)):\n",
    "        subdict['category_title'] = category_title\n",
    "        subdict['name'] = get_product_name(products,j)\n",
    "        subdict['price']= get_product_price(products,j)\n",
    "        dataset.loc[j,:] = subdict\n",
    "        #print(subdict)\n",
    "#print(maindict)"
   ]
  },
  {
   "cell_type": "code",
   "execution_count": 202,
   "metadata": {},
   "outputs": [
    {
     "data": {
      "text/html": [
       "<div>\n",
       "<style scoped>\n",
       "    .dataframe tbody tr th:only-of-type {\n",
       "        vertical-align: middle;\n",
       "    }\n",
       "\n",
       "    .dataframe tbody tr th {\n",
       "        vertical-align: top;\n",
       "    }\n",
       "\n",
       "    .dataframe thead th {\n",
       "        text-align: right;\n",
       "    }\n",
       "</style>\n",
       "<table border=\"1\" class=\"dataframe\">\n",
       "  <thead>\n",
       "    <tr style=\"text-align: right;\">\n",
       "      <th></th>\n",
       "      <th>category_title</th>\n",
       "      <th>name</th>\n",
       "      <th>price</th>\n",
       "    </tr>\n",
       "  </thead>\n",
       "  <tbody>\n",
       "    <tr>\n",
       "      <th>0</th>\n",
       "      <td>Alkoholische Getränke</td>\n",
       "      <td>Bio-Cuvée rot Rheinhessen / Pfalz QbA</td>\n",
       "      <td>2.99</td>\n",
       "    </tr>\n",
       "    <tr>\n",
       "      <th>1</th>\n",
       "      <td>Alkoholische Getränke</td>\n",
       "      <td>Bio-Cuvée weiss Rheinhessen / Pfalz QbA</td>\n",
       "      <td>2.99</td>\n",
       "    </tr>\n",
       "    <tr>\n",
       "      <th>2</th>\n",
       "      <td>Alkoholische Getränke</td>\n",
       "      <td>Bio-Airén y Macabeo La Mancha DO</td>\n",
       "      <td>2.69</td>\n",
       "    </tr>\n",
       "    <tr>\n",
       "      <th>3</th>\n",
       "      <td>Nicht-alkoholische Getränke</td>\n",
       "      <td>AMAROY® Premium Röstkaffee Bio Kaffee</td>\n",
       "      <td>3.75</td>\n",
       "    </tr>\n",
       "    <tr>\n",
       "      <th>4</th>\n",
       "      <td>Nicht-alkoholische Getränke</td>\n",
       "      <td>Amaroy Fairer Biokaffee</td>\n",
       "      <td>4.79</td>\n",
       "    </tr>\n",
       "    <tr>\n",
       "      <th>5</th>\n",
       "      <td>Nicht-alkoholische Getränke</td>\n",
       "      <td>AMAROY®Fairer Biokaffee Kaffee Pads</td>\n",
       "      <td>1.79</td>\n",
       "    </tr>\n",
       "    <tr>\n",
       "      <th>6</th>\n",
       "      <td>Nicht-alkoholische Getränke</td>\n",
       "      <td>ONE WORLD® Bio-Trinkschokolade</td>\n",
       "      <td>2.49</td>\n",
       "    </tr>\n",
       "    <tr>\n",
       "      <th>7</th>\n",
       "      <td>Nicht-alkoholische Getränke</td>\n",
       "      <td>ONE WORLD® Fairtrade Bio Tee</td>\n",
       "      <td>1.59</td>\n",
       "    </tr>\n",
       "    <tr>\n",
       "      <th>8</th>\n",
       "      <td>Nicht-alkoholische Getränke</td>\n",
       "      <td>bio Tee</td>\n",
       "      <td>1.09</td>\n",
       "    </tr>\n",
       "    <tr>\n",
       "      <th>9</th>\n",
       "      <td>Molkereiprodukte</td>\n",
       "      <td>bio Joghurt</td>\n",
       "      <td>0.85</td>\n",
       "    </tr>\n",
       "    <tr>\n",
       "      <th>10</th>\n",
       "      <td>Molkereiprodukte</td>\n",
       "      <td>bio Fruchtjoghurt</td>\n",
       "      <td>0.39</td>\n",
       "    </tr>\n",
       "    <tr>\n",
       "      <th>11</th>\n",
       "      <td>Molkereiprodukte</td>\n",
       "      <td>bio Joghurt &amp; Knuspermüsli</td>\n",
       "      <td>0.59</td>\n",
       "    </tr>\n",
       "    <tr>\n",
       "      <th>12</th>\n",
       "      <td>Molkereiprodukte</td>\n",
       "      <td>bio Lassi</td>\n",
       "      <td>0.79</td>\n",
       "    </tr>\n",
       "    <tr>\n",
       "      <th>13</th>\n",
       "      <td>Molkereiprodukte</td>\n",
       "      <td>bio Haferdrink¹</td>\n",
       "      <td>0.95</td>\n",
       "    </tr>\n",
       "    <tr>\n",
       "      <th>14</th>\n",
       "      <td>Molkereiprodukte</td>\n",
       "      <td>bio Mandel-/Kokosnuss­drink</td>\n",
       "      <td>1.15</td>\n",
       "    </tr>\n",
       "    <tr>\n",
       "      <th>15</th>\n",
       "      <td>Molkereiprodukte</td>\n",
       "      <td>bio Mozzarella</td>\n",
       "      <td>0.89</td>\n",
       "    </tr>\n",
       "    <tr>\n",
       "      <th>16</th>\n",
       "      <td>Molkereiprodukte</td>\n",
       "      <td>bio Feta</td>\n",
       "      <td>1.99</td>\n",
       "    </tr>\n",
       "    <tr>\n",
       "      <th>17</th>\n",
       "      <td>Molkereiprodukte</td>\n",
       "      <td>bio Käsegenuss</td>\n",
       "      <td>1.65</td>\n",
       "    </tr>\n",
       "    <tr>\n",
       "      <th>18</th>\n",
       "      <td>Molkereiprodukte</td>\n",
       "      <td>bio Käse-Variation</td>\n",
       "      <td>2.99</td>\n",
       "    </tr>\n",
       "    <tr>\n",
       "      <th>19</th>\n",
       "      <td>Molkereiprodukte</td>\n",
       "      <td>bio Reibekäse</td>\n",
       "      <td>1.49</td>\n",
       "    </tr>\n",
       "  </tbody>\n",
       "</table>\n",
       "</div>"
      ],
      "text/plain": [
       "                 category_title                                     name price\n",
       "0         Alkoholische Getränke    Bio-Cuvée rot Rheinhessen / Pfalz QbA  2.99\n",
       "1         Alkoholische Getränke  Bio-Cuvée weiss Rheinhessen / Pfalz QbA  2.99\n",
       "2         Alkoholische Getränke         Bio-Airén y Macabeo La Mancha DO  2.69\n",
       "3   Nicht-alkoholische Getränke    AMAROY® Premium Röstkaffee Bio Kaffee  3.75\n",
       "4   Nicht-alkoholische Getränke                  Amaroy Fairer Biokaffee  4.79\n",
       "5   Nicht-alkoholische Getränke      AMAROY®Fairer Biokaffee Kaffee Pads  1.79\n",
       "6   Nicht-alkoholische Getränke           ONE WORLD® Bio-Trinkschokolade  2.49\n",
       "7   Nicht-alkoholische Getränke             ONE WORLD® Fairtrade Bio Tee  1.59\n",
       "8   Nicht-alkoholische Getränke                                  bio Tee  1.09\n",
       "9              Molkereiprodukte                              bio Joghurt  0.85\n",
       "10             Molkereiprodukte                        bio Fruchtjoghurt  0.39\n",
       "11             Molkereiprodukte               bio Joghurt & Knuspermüsli  0.59\n",
       "12             Molkereiprodukte                                bio Lassi  0.79\n",
       "13             Molkereiprodukte                          bio Haferdrink¹  0.95\n",
       "14             Molkereiprodukte              bio Mandel-/Kokosnuss­drink  1.15\n",
       "15             Molkereiprodukte                           bio Mozzarella  0.89\n",
       "16             Molkereiprodukte                                 bio Feta  1.99\n",
       "17             Molkereiprodukte                           bio Käsegenuss  1.65\n",
       "18             Molkereiprodukte                       bio Käse-Variation  2.99\n",
       "19             Molkereiprodukte                            bio Reibekäse  1.49"
      ]
     },
     "execution_count": 202,
     "metadata": {},
     "output_type": "execute_result"
    }
   ],
   "source": [
    "dataset\n"
   ]
  },
  {
   "cell_type": "code",
   "execution_count": null,
   "metadata": {},
   "outputs": [],
   "source": []
  }
 ],
 "metadata": {
  "kernelspec": {
   "display_name": "Python 3",
   "language": "python",
   "name": "python3"
  },
  "language_info": {
   "codemirror_mode": {
    "name": "ipython",
    "version": 3
   },
   "file_extension": ".py",
   "mimetype": "text/x-python",
   "name": "python",
   "nbconvert_exporter": "python",
   "pygments_lexer": "ipython3",
   "version": "3.7.3"
  }
 },
 "nbformat": 4,
 "nbformat_minor": 2
}
